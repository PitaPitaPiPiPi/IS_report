{
  "nbformat": 4,
  "nbformat_minor": 0,
  "metadata": {
    "colab": {
      "name": "IS_DataStructure2.ipynb",
      "provenance": [],
      "toc_visible": true,
      "include_colab_link": true
    },
    "kernelspec": {
      "name": "python3",
      "display_name": "Python 3"
    }
  },
  "cells": [
    {
      "cell_type": "markdown",
      "metadata": {
        "id": "view-in-github",
        "colab_type": "text"
      },
      "source": [
        "<a href=\"https://colab.research.google.com/github/PitaPitaPiPiPi/IS_report/blob/main/IS_DataStructure2.ipynb\" target=\"_parent\"><img src=\"https://colab.research.google.com/assets/colab-badge.svg\" alt=\"Open In Colab\"/></a>"
      ]
    },
    {
      "cell_type": "markdown",
      "metadata": {
        "id": "sxctlWfJ-A0n"
      },
      "source": [
        "#Implementing Doubly-Linked-List in Python\n",
        "\n",
        "A node is implemented as an object. We define \"Node\" class.\n",
        "Node object has three variables: key, prev, next.\n",
        "Node object itself has no methods.\n",
        "Prev and next store references to other object.\n",
        "We also need an object to represent a whole list.We define \"MyList\" class.\n",
        "MyList object has one variable: head that stores a reference to the head Node in the list.\n",
        "MyList object has (at least) three methods: insert, delete, search.\n"
      ]
    },
    {
      "cell_type": "code",
      "metadata": {
        "id": "Z2ykOm19_ncT",
        "colab": {
          "base_uri": "https://localhost:8080/"
        },
        "outputId": "17ea3105-0680-406a-aafb-e3f009181233"
      },
      "source": [
        "class Node:\n",
        "  def __init__(self,key):\n",
        "    self.key=key\n",
        "    self.prev=None\n",
        "    self.next=None\n",
        "\n",
        "class MyList:\n",
        "  def __init__(self):\n",
        "    self.head=None\n",
        "\n",
        "  def search(self,k):\n",
        "    visit = self.head\n",
        "    while visit != None and visit.key != k:\n",
        "      visit = visit.next\n",
        "    return visit\n",
        "\n",
        "  def insert(self, node):\n",
        "    node.next = self.head\n",
        "    if self.head != None: #not empty list\n",
        "      self.head.prev = node\n",
        "    self.head = node\n",
        "\n",
        "  def delete(self, node):\n",
        "    if node.prev != None:\n",
        "      node.prev.next = node.next\n",
        "    else:\n",
        "      self.head = node.next\n",
        "    if node.next != None:\n",
        "      node.next.prev = node.prev\n",
        "\n",
        "  def print(self):\n",
        "    print('[', end='')\n",
        "    visit = self.head\n",
        "    while visit != None:\n",
        "      print(visit.key,end=',')\n",
        "      visit = visit.next\n",
        "    print(']')\n",
        "##########################\n",
        "#initialize a list by inserting 0..29\n",
        "l = MyList()\n",
        "for i in range(30):\n",
        "  l.insert(Node(i))\n",
        "#try a search\n",
        "n = l.search(25)\n",
        "print( '...',n.prev.key, ',', n.key, ',', n.next.key, '...')\n",
        "#try to delete a node\n",
        "l.delete(n)\n",
        "l.print()"
      ],
      "execution_count": 3,
      "outputs": [
        {
          "output_type": "stream",
          "name": "stdout",
          "text": [
            "... 26 , 25 , 24 ...\n",
            "[29,28,27,26,24,23,22,21,20,19,18,17,16,15,14,13,12,11,10,9,8,7,6,5,4,3,2,1,0,]\n"
          ]
        }
      ]
    },
    {
      "cell_type": "markdown",
      "metadata": {
        "id": "zKGcnqygtVLl"
      },
      "source": [
        "# Sentinel"
      ]
    },
    {
      "cell_type": "code",
      "metadata": {
        "id": "FgEWO6EMtXNd",
        "colab": {
          "base_uri": "https://localhost:8080/"
        },
        "outputId": "70677087-c30b-4c31-d3a5-3d48e66f74a8"
      },
      "source": [
        "class MyList2:\n",
        "  def __init__(self):\n",
        "    # Create and insert a sentinel (=self.nil) at first\n",
        "    n = Node(None)\n",
        "    self.nil = n.next = n.prev = n\n",
        "\n",
        "  def search(self,k):\n",
        "    visit = self.nil.next\n",
        "    while visit != self.nil and visit.key != k:\n",
        "      visit = visit.next\n",
        "    return visit\n",
        "\n",
        "  def insert(self, node):\n",
        "    node.next = self.nil.next\n",
        "    self.nil.next.prev = node\n",
        "    self.nil.next = node\n",
        "    node.prev = self.nil\n",
        "\n",
        "  def delete(self, node):\n",
        "    node.prev.next = node.next\n",
        "    node.next.prev = node.prev\n",
        "    return None\n",
        "\n",
        "# print method must be updated to work\n",
        "  def print(self): #Copied from MyList (Need to FIX)\n",
        "    print('[', end='')\n",
        "    visit = self.nil\n",
        "    while visit != None and visit.key != None:\n",
        "      print(visit.key,end=',')\n",
        "      visit = visit.next\n",
        "    print(']')\n",
        "##########################\n",
        "#initialize a list by inserting 0..49\n",
        "l = MyList2()\n",
        "for i in range(30):\n",
        "  l.insert(Node(i))\n",
        "#try a search\n",
        "n = l.search(25)\n",
        "print( '...',n.prev.key, ',', n.key, ',', n.next.key, '...')\n",
        "#try to delete a node\n",
        "l.delete(n)\n",
        "l.print()"
      ],
      "execution_count": 9,
      "outputs": [
        {
          "output_type": "stream",
          "name": "stdout",
          "text": [
            "... 26 , 25 , 24 ...\n",
            "[]\n"
          ]
        }
      ]
    },
    {
      "cell_type": "markdown",
      "metadata": {
        "id": "OALSvPBnbLYj"
      },
      "source": [
        "## Short Practice\n",
        "Correct the print method to print all members of the sentinel list:"
      ]
    }
  ]
}